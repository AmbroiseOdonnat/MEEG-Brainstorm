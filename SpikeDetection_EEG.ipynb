{
 "cells": [
  {
   "cell_type": "code",
   "execution_count": 2,
   "id": "5dfbbb58-80d6-46cd-9036-8d7e3d2fdcfb",
   "metadata": {},
   "outputs": [],
   "source": [
    "%load_ext autoreload\n",
    "%autoreload 2"
   ]
  },
  {
   "cell_type": "code",
   "execution_count": 3,
   "id": "c890b2d2-1332-436d-b3d0-248eb76b3f21",
   "metadata": {},
   "outputs": [],
   "source": [
    "from os import listdir\n",
    "from os.path import isfile, join\n",
    "\n",
    "# Data\n",
    "path_root = '../../Neuropoly_Internship/MEEG_data/EEG_signals/'\n",
    "wanted_event_label = 'saw_EST'\n",
    "wanted_channel_type = ['EEG'] \n",
    "sample_frequence = 100\n",
    "binary_classification = True\n",
    "selected_rows = 10\n",
    "\n",
    "data_config = { \n",
    "    'path_root': path_root,\n",
    "    'wanted_event_label': wanted_event_label,\n",
    "    'wanted_channel_type': wanted_channel_type,\n",
    "    'sample_frequence': sample_frequence,\n",
    "    'binary_classification': binary_classification\n",
    "    }\n",
    "\n",
    "# Define configuration file\n",
    "config = {}\n",
    "config['loader_parameters'] = data_config\n",
    "config['training_parameters'] = {}\n",
    "config['model'] = {}\n",
    "config['optimizer'] = {}"
   ]
  },
  {
   "cell_type": "code",
   "execution_count": 4,
   "id": "f5d25ab5",
   "metadata": {},
   "outputs": [
    {
     "name": "stderr",
     "output_type": "stream",
     "text": [
      "2022-05-29 10:50:38.021 | INFO     | spike_detection:__init__:64 - Get dataset\n",
      "2022-05-29 10:50:38.024 | INFO     | data:get_all_datasets:206 - Recover data for subject_1 \n",
      "2022-05-29 10:51:06.878 | INFO     | data:get_dataset:170 - Label creation: number of spikes [0 1] mapped on labels [0 1]\n",
      "2022-05-29 10:51:06.880 | INFO     | data:get_all_datasets:206 - Recover data for subject_2\n",
      "2022-05-29 10:51:32.409 | INFO     | data:get_dataset:170 - Label creation: number of spikes [0 1] mapped on labels [0 1]\n",
      "2022-05-29 10:51:32.410 | INFO     | data:get_all_datasets:206 - Recover data for subject_0\n",
      "2022-05-29 10:51:59.190 | INFO     | data:get_dataset:170 - Label creation: number of spikes [0 1] mapped on labels [0 1]\n"
     ]
    },
    {
     "name": "stdout",
     "output_type": "stream",
     "text": [
      "n_trials:  1965 \n",
      " n_trials_containing_spikes:  843 \n",
      " n_spike_annotations:  1458 \n",
      " n_non_spike_annotations:  393507 \n",
      " mean_spike_by_trial:  0.7419847328244275 \n",
      " std_spike_by_trial:  1.1212012504638598 \n",
      " n_time_windows:  19650 \n",
      " n_time_window_containing_spikes:  1458.0 \n",
      " mean_spike_time_window_by_trial:  0.7419847328244275 \n",
      " std_spike_time_window_by_trial:  1.1212012504638598\n"
     ]
    }
   ],
   "source": [
    "from spike_detection import DetectionTransformer\n",
    "detection = DetectionTransformer(config)"
   ]
  },
  {
   "cell_type": "code",
   "execution_count": 7,
   "id": "b8df5c51-f309-49fa-8385-62666cecde03",
   "metadata": {},
   "outputs": [],
   "source": [
    "intra_subject = True\n",
    "period = 1\n",
    "\n",
    "# Train\n",
    "batch_size = 8\n",
    "n_epochs = 1\n",
    "num_workers = 0\n",
    "mix_up = True\n",
    "BETA = 0.4\n",
    "cost_sensitive = True\n",
    "lambd = 0.5\n",
    "l1_penalty = 0\n",
    "\n",
    "# Model\n",
    "n_time_points = 201\n",
    "attention_num_heads = 1\n",
    "attention_dropout = 0.1\n",
    "spatial_dropout = 0.1\n",
    "emb_size = 30\n",
    "n_maps = 5\n",
    "position_kernel = 50\n",
    "channels_kernel = 20\n",
    "channels_stride = 1\n",
    "time_kernel = 20\n",
    "time_stride = 1\n",
    "positional_dropout = 0.25\n",
    "embedding_dropout = 0\n",
    "depth = 3\n",
    "num_heads = 10\n",
    "expansion = 4\n",
    "transformer_dropout = 0.25\n",
    "n_time_windows = 10 #n_time_points\n",
    "detector_dropout = 0\n",
    "\n",
    "# Optimizer\n",
    "lr = 1e-3\n",
    "b1 = 0.9\n",
    "b2 = 0.999\n",
    "weight_decay = 0\n",
    "amsgrad = False\n",
    "warmup = 200\n",
    "scheduler = True\n",
    "scheduler_patience = 20\n",
    "factor = 0.5\n",
    "min_lr = 1e-5\n",
    "el_stop_patience = 10\n",
    "\n",
    "# Cross-validation\n",
    "n_splits = 5\n",
    "n_repeats = 1\n",
    "random_state = 42\n",
    "val_size = 0.2\n",
    "\n",
    "training_config = {\n",
    "    'batch_size': batch_size,\n",
    "    'num_workers': num_workers,\n",
    "    'epochs': n_epochs,\n",
    "    'use_mix_up': mix_up,\n",
    "    'BETA': BETA,\n",
    "    'use_cost_sensitive': cost_sensitive,\n",
    "    'lambda': lambd,\n",
    "    'l1_penality': l1_penalty\n",
    "    }\n",
    "\n",
    "model_config = {\n",
    "    'n_time_points': n_time_points,\n",
    "    'attention_num_heads': attention_num_heads,\n",
    "    'attention_dropout': attention_dropout,\n",
    "    'spatial_dropout': spatial_dropout,\n",
    "    'emb_size': emb_size,\n",
    "    'n_maps': n_maps,\n",
    "    'position_kernel': position_kernel,\n",
    "    'channels_kernel': channels_kernel,\n",
    "    'channels_stride': channels_stride,\n",
    "    'time_kernel': time_kernel,\n",
    "    'time_stride': time_stride,\n",
    "    'positional_dropout': positional_dropout,\n",
    "    'embedding_dropout': embedding_dropout,\n",
    "    'depth': depth,\n",
    "    'num_heads': num_heads,\n",
    "    'expansion': expansion,\n",
    "    'transformer_dropout': transformer_dropout,\n",
    "    'n_time_windows': n_time_windows,\n",
    "    'detector_dropout': detector_dropout\n",
    "    }\n",
    "\n",
    "optimizer_config = {\n",
    "    'lr': lr,\n",
    "    'b1': b1,\n",
    "    'b2': b2,\n",
    "    'weight_decay': weight_decay,\n",
    "    'use_amsgrad': amsgrad,\n",
    "    'learning_rate_warmup': warmup,\n",
    "    'scheduler': {\n",
    "        'use_scheduler': scheduler,\n",
    "        'patience': scheduler_patience,\n",
    "        'factor': factor,\n",
    "        'min_lr': min_lr\n",
    "        },\n",
    "    'early_stopping': {\n",
    "        'patience': el_stop_patience\n",
    "        }\n",
    "    }\n",
    "\n",
    "cross_validation_config = {\n",
    "    'n_splits': n_splits,\n",
    "    'n_repeats': n_repeats,\n",
    "    'random_state': random_state,\n",
    "    'val_size': val_size\n",
    "    }\n",
    "\n",
    "config['intra_subject'] = intra_subject\n",
    "config['period'] = period\n",
    "config['training_parameters'] = training_config\n",
    "config['model'] = model_config\n",
    "config['optimizer'] = optimizer_config\n",
    "config['cross_validation'] = cross_validation_config"
   ]
  },
  {
   "cell_type": "code",
   "execution_count": 63,
   "id": "db0ddd34",
   "metadata": {},
   "outputs": [],
   "source": [
    "import json\n",
    "#path = 'Configuration_files_templates/spike_detection_intra_subject.json'\n",
    "#json.dump(config, open(path, 'w'), indent=4)"
   ]
  },
  {
   "cell_type": "code",
   "execution_count": 8,
   "id": "67be2600",
   "metadata": {},
   "outputs": [
    {
     "name": "stderr",
     "output_type": "stream",
     "text": [
      "2022-05-29 10:56:04.486 | INFO     | utils:define_device:45 - Cuda is not available.\n",
      "2022-05-29 10:56:04.491 | INFO     | utils:define_device:46 - Working on cpu.\n",
      "2022-05-29 10:56:04.501 | INFO     | spike_detection:cross_validation:203 - Spike detection for subject subject_1 .\n"
     ]
    },
    {
     "name": "stdout",
     "output_type": "stream",
     "text": [
      "--------------------------------\n",
      "FOLD 0\n",
      "--------------------------------\n"
     ]
    },
    {
     "name": "stderr",
     "output_type": "stream",
     "text": [
      "2022-05-29 10:56:20.578 | INFO     | spike_detection:cross_validation:533 - Training loss at epoch 1: 6.057271897891812\n",
      "2022-05-29 10:56:21.852 | INFO     | spike_detection:cross_validation:568 - Validation loss at epoch 1: 0.2584765901168187\n",
      "2022-05-29 10:56:35.352 | INFO     | spike_detection:cross_validation:533 - Training loss at epoch 2: 4.756346594406405\n",
      "2022-05-29 10:56:36.625 | INFO     | spike_detection:cross_validation:568 - Validation loss at epoch 2: 0.28275348908371395\n",
      "2022-05-29 10:56:50.391 | INFO     | spike_detection:cross_validation:533 - Training loss at epoch 3: 4.711072537042846\n",
      "2022-05-29 10:56:51.612 | INFO     | spike_detection:cross_validation:568 - Validation loss at epoch 3: 0.24564334584607017\n",
      "2022-05-29 10:57:10.711 | INFO     | spike_detection:cross_validation:533 - Training loss at epoch 4: 4.656057487421479\n",
      "2022-05-29 10:57:13.388 | INFO     | spike_detection:cross_validation:568 - Validation loss at epoch 4: 0.23775776227315268\n"
     ]
    }
   ],
   "source": [
    "N = 25\n",
    "config['training_parameters']['epochs'] = N\n",
    "config['optimizer']['early_stopping']['patience'] = 10\n",
    "config['cross_validation']['n_splits'] = 2\n",
    "config['cross_validation']['n_repeats'] = 1\n",
    "gpu_id = 0\n",
    "save = False\n",
    "path_output = '.'\n",
    "\n",
    "results = detection.cross_validation(config, save, path_output, gpu_id)"
   ]
  }
 ],
 "metadata": {
  "interpreter": {
   "hash": "aee8b7b246df8f9039afb4144a1f6fd8d2ca17a180786b69acc140d282b71a49"
  },
  "kernelspec": {
   "display_name": "Python 3.8.5 64-bit",
   "language": "python",
   "name": "python3"
  },
  "language_info": {
   "codemirror_mode": {
    "name": "ipython",
    "version": 3
   },
   "file_extension": ".py",
   "mimetype": "text/x-python",
   "name": "python",
   "nbconvert_exporter": "python",
   "pygments_lexer": "ipython3",
   "version": "3.8.5"
  }
 },
 "nbformat": 4,
 "nbformat_minor": 5
}
